{
 "cells": [
  {
   "cell_type": "code",
   "execution_count": null,
   "metadata": {},
   "outputs": [],
   "source": [
    "import numpy as np, matplotlib.pyplot as plt, math\n",
    "from mpl_toolkits import mplot3d\n",
    "from random import randint\n",
    "import random\n",
    "%matplotlib notebook"
   ]
  },
  {
   "cell_type": "code",
   "execution_count": null,
   "metadata": {},
   "outputs": [],
   "source": [
    "def magnetic_force(charge,velocity,field): return charge*np.cross(velocity,field)\n",
    "\n",
    "class particle:\n",
    "    \n",
    "    def __init__(self, r, v, q, m):\n",
    "        self.r, self.v, self.q, self.m = np.asarray(r), np.asarray(v), q, m\n",
    "        self.history = {'x':[], 'y':[], 'z':[]}\n",
    "    \n",
    "    def update(self, field, time_step):\n",
    "        F =  magnetic_force(self.q, self.v, np.asarray(field))\n",
    "        self.r = self.r + self.v * np.float64(time_step)\n",
    "        self.v = self.v + F * np.float64(time_step) / self.m\n",
    "        self.history['x'].append(self.r[0]), self.history['y'].append(self.r[1])\n",
    "        self.history['z'].append(self.r[2])\n",
    "        \n",
    "    def iterate(self, external_field, elapsed_time, time_step):\n",
    "        for i in range(elapsed_time): self.update(external_field, time_step)\n",
    "\n",
    "    ### WARNING: ELAPSED_TIME MUST BE AN INTEGER. \n",
    "    ### We should be able to fix this easily with arange().\n",
    "            \n",
    "    def plot_trajectory(self):\n",
    "        ax.plot3D(electron.history['x'], electron.history['y'], \\\n",
    "                  electron.history['z'], 'b-');\n",
    "class random_particle:\n",
    "    \n",
    "    def __init__(self):\n",
    "        self.r = np.asarray([0.5 - (1.0 * np.random.ranf()),0.5 - \\\n",
    "                            (1.0 * np.random.ranf()),0.5 - (1.0 * np.random.ranf())])\n",
    "        self.v = np.asarray([1.0 - (2.0 * np.random.ranf()),1.0 - \\\n",
    "                            (2.0 * np.random.ranf()),1.0 - (2.0 * np.random.ranf())])\n",
    "        self.q = 1 - (2 * np.random.ranf())\n",
    "        self.m = 0.05 + np.random.ranf()\n",
    "        self.history = {'x':[], 'y':[], 'z':[]}\n",
    "        \n",
    "    def update(self, field, time_step):\n",
    "        F =  magnetic_force(self.q, self.v, np.asarray(field))\n",
    "        self.r = self.r + self.v * np.float64(time_step)\n",
    "        self.v = self.v + F * np.float64(time_step) / self.m\n",
    "        self.history['x'].append(self.r[0]), self.history['y'].append(self.r[1])\n",
    "        self.history['z'].append(self.r[2])\n",
    "        \n",
    "    def iterate(self, external_field, elapsed_time, time_step):\n",
    "        for i in range(elapsed_time): self.update(external_field, time_step)"
   ]
  },
  {
   "cell_type": "code",
   "execution_count": null,
   "metadata": {},
   "outputs": [],
   "source": [
    "##################  USER PARAMETERS ###########################\n",
    "\n",
    "external_field = [np.float64(0),np.float64(0),np.float64(5.0)]\n",
    "time_step = 0.001\n",
    "elapsed_time = 1000\n",
    "number_of_particles = 10\n",
    "\n",
    "###############################################################"
   ]
  },
  {
   "cell_type": "code",
   "execution_count": null,
   "metadata": {},
   "outputs": [],
   "source": [
    "randoms = []\n",
    "# Populate an array with random_particles, iterate over the elapsed time.\n",
    "for i in range(number_of_particles): randoms.append(random_particle())\n",
    "for i in range(number_of_particles): randoms[i].iterate(external_field,elapsed_time,time_step)"
   ]
  },
  {
   "cell_type": "code",
   "execution_count": null,
   "metadata": {
    "scrolled": false
   },
   "outputs": [],
   "source": [
    "colors = ['#b87f86', '#ff8d00', '#cbffe8','#ff00e7',\\\n",
    "         '#afaf0a', '#003366', '#83d0f2',\\\n",
    "         '#d5aaf0', '#f3b7c3','r','b','g','k','m']\n",
    "\n",
    "names = ['Cornelius', 'Mortimer', 'William', 'Albert', 'Freddie',\n",
    "        'Bernard', 'Martha', 'Chester', 'Clarence', 'Arthur',\n",
    "        'Ernest', 'Elizabeth', 'Arnold', 'Doris', 'Charles',\n",
    "        'Charlotte', 'Alice', 'Gertrude', 'Margaret', 'Dorothy',\n",
    "        'Wallace', 'Eugene', 'Waldo', 'Alfred', 'Bertha', 'Eleanor']\n",
    "\n",
    "chosen_colors, chosen_names = [],[]\n",
    "for i in range(number_of_particles): \n",
    "    chosen_colors.append(random.choice(colors))\n",
    "    chosen_names.append(random.choice(names))\n",
    "\n",
    "fig = plt.figure(figsize=(10,10));\n",
    "ax = plt.axes(projection='3d');\n",
    "ax.set_xlim(-1, 1); ax.set_ylim(-1, 1); ax.set_zlim(-1, 1);\n",
    "for i in range(number_of_particles): \n",
    "    ax.plot3D(randoms[i].history['x'], randoms[i].history['y'], \\\n",
    "    randoms[i].history['z'], color = chosen_colors[i], \\\n",
    "    label = chosen_names[i] + \" (\" + str(i) + \")\")\n",
    "plt.title(\"%i random particles \\n\" % number_of_particles + \\\n",
    "          'B = (%.1f' % external_field[0] + ', %.1f, ' % external_field[1] \\\n",
    "          + '%.1f)' % external_field[2])\n",
    "ax.legend();\n",
    "ax.set_xlabel('X');\n",
    "ax.set_ylabel('Y');\n",
    "ax.set_zlabel('Z');\n",
    "for i in range(number_of_particles):\n",
    "    print(chosen_names[i],'v_0 =', randoms[i].v, \\\n",
    "         \"q = %.3f\" % randoms[i].q, \"m = %.3f\" % randoms[i].m, '\\n')"
   ]
  },
  {
   "cell_type": "code",
   "execution_count": null,
   "metadata": {},
   "outputs": [],
   "source": []
  },
  {
   "cell_type": "code",
   "execution_count": null,
   "metadata": {},
   "outputs": [],
   "source": []
  },
  {
   "cell_type": "code",
   "execution_count": null,
   "metadata": {},
   "outputs": [],
   "source": []
  }
 ],
 "metadata": {
  "kernelspec": {
   "display_name": "Python [conda env:Anaconda]",
   "language": "python",
   "name": "conda-env-Anaconda-py"
  },
  "language_info": {
   "codemirror_mode": {
    "name": "ipython",
    "version": 3
   },
   "file_extension": ".py",
   "mimetype": "text/x-python",
   "name": "python",
   "nbconvert_exporter": "python",
   "pygments_lexer": "ipython3",
   "version": "3.5.5"
  }
 },
 "nbformat": 4,
 "nbformat_minor": 2
}
